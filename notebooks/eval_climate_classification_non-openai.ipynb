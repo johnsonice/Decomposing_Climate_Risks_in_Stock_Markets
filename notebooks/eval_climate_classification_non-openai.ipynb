{
 "cells": [
  {
   "cell_type": "code",
   "execution_count": 1,
   "metadata": {},
   "outputs": [
    {
     "name": "stderr",
     "output_type": "stream",
     "text": [
      "/ephemeral/home/xiong/miniconda3/envs/llm/lib/python3.11/site-packages/tqdm/auto.py:21: TqdmWarning: IProgress not found. Please update jupyter and ipywidgets. See https://ipywidgets.readthedocs.io/en/stable/user_install.html\n",
      "  from .autonotebook import tqdm as notebook_tqdm\n"
     ]
    }
   ],
   "source": [
    "import os,sys\n",
    "sys.path.insert(0,'../../libs')\n",
    "import openai\n",
    "from llm_utils import BSAgent\n",
    "from data_utils import train_val_test_split,load_split_climate_data\n",
    "from utils import download_hf_model\n",
    "import pandas as pd\n",
    "import re,json,copy\n",
    "from tqdm import tqdm\n",
    "from prompts import short_cot_pt,short_cot_pt_2label,long_cot_pt,long_cot_pt_2label,long_fewshotcot_pt_2label\n",
    "import pprint\n",
    "from pydantic import BaseModel\n",
    "from typing import Literal"
   ]
  },
  {
   "cell_type": "code",
   "execution_count": 2,
   "metadata": {},
   "outputs": [],
   "source": [
    "# set up async process\n",
    "import nest_asyncio\n",
    "import asyncio\n",
    "nest_asyncio.apply()\n",
    "from llm_utils_async import AsyncBSAgent"
   ]
  },
  {
   "cell_type": "code",
   "execution_count": 2,
   "metadata": {},
   "outputs": [],
   "source": [
    "from dotenv import load_dotenv\n",
    "env_path = '../../../.env'\n",
    "load_dotenv(dotenv_path=env_path)\n",
    "api_key = os.getenv(\"OPENAI_API_KEY\")\n",
    "if not api_key:\n",
    "    raise ValueError(\"OPENAI_API_KEY not found in environment variables. Please check your .env file.\")\n"
   ]
  },
  {
   "cell_type": "markdown",
   "metadata": {},
   "source": [
    "#### Download all models for evaluation"
   ]
  },
  {
   "cell_type": "markdown",
   "metadata": {},
   "source": [
    "#### Define output data model "
   ]
  },
  {
   "cell_type": "code",
   "execution_count": 3,
   "metadata": {},
   "outputs": [],
   "source": [
    "class ClimateClassification(BaseModel):\n",
    "    justification: str\n",
    "    classification: Literal[\"favorable\", \"unfavorable\", \"neutral\"]\n",
    "\n",
    "class ClimateClassification_2label(BaseModel):\n",
    "    justification: str\n",
    "    classification: Literal[\"favorable\", \"unfavorable\"]"
   ]
  },
  {
   "cell_type": "markdown",
   "metadata": {},
   "source": [
    "#### Define classification function ; sync and async"
   ]
  },
  {
   "cell_type": "code",
   "execution_count": 4,
   "metadata": {},
   "outputs": [],
   "source": [
    "def get_climate_classifications(agent, dataset, prompt_template):\n",
    "    results = []\n",
    "    for i in tqdm(range(len(dataset))):\n",
    "        structured_prompt = copy.deepcopy(prompt_template)\n",
    "        structured_prompt['user'] = structured_prompt['user'].format(PARAGRAPH=dataset.iloc[i].paragraph)\n",
    "        try:\n",
    "            response = agent.get_response_content(prompt_template=structured_prompt)\n",
    "            response = agent.parse_load_json_str(response)\n",
    "            results.append({\n",
    "                'paragraph': dataset.iloc[i].paragraph,\n",
    "                'true_label': dataset.iloc[i].label,\n",
    "                'predicted_label': response.get('classification'),\n",
    "                'justification': response.get('justification')\n",
    "            })\n",
    "        except Exception as e:\n",
    "            print(f\"Error processing row {i}: {str(e)}\")\n",
    "            results.append({\n",
    "                'paragraph': dataset.iloc[i].paragraph,\n",
    "                'true_label': dataset.iloc[i].label,\n",
    "                'predicted_label': None,\n",
    "                'justification': f\"Error: {str(e)}\"\n",
    "            })\n",
    "    return pd.DataFrame(results)"
   ]
  },
  {
   "cell_type": "code",
   "execution_count": 5,
   "metadata": {},
   "outputs": [],
   "source": [
    "data_folder = '/ephemeral/home/xiong/data/Fund/Climate'\n",
    "# data_path = os.path.join(data_folder,'Climate training paragraphs.csv')\n",
    "# ds = load_split_climate_data(data_path,merge_neutral=True,verbose=True)\n",
    "# ds['test'].to_csv(data_folder+'/test.csv')\n",
    "# ds['validation'].to_csv(data_folder+'/validation.csv')\n",
    "# ds['train'].to_csv(data_folder+'/train.csv')\n",
    "test_data = pd.read_csv(data_folder+'/test.csv')\n",
    "val_data = pd.read_csv(data_folder+'/validation.csv')\n",
    "train_data = pd.read_csv(data_folder+'/train.csv')"
   ]
  },
  {
   "cell_type": "markdown",
   "metadata": {},
   "source": [
    "#### Setup experiment scenarios"
   ]
  },
  {
   "cell_type": "code",
   "execution_count": 7,
   "metadata": {},
   "outputs": [],
   "source": [
    "# Define model names, prompt templates, and API configuration\n",
    "model_name_list = [\n",
    "    'anthropic/claude-3-7-sonnet-latest', # Claude 3 Sonnet\n",
    "    'google/gemini-2.0-flash'   # Google Gemini Flash\n",
    "]\n",
    "\n",
    "prompt_template_list = [long_fewshotcot_pt_2label, long_cot_pt_2label, short_cot_pt_2label]\n",
    "# Create dictionary with model names as keys and prompt templates as values\n",
    "experiment_dict = {}\n",
    "for model in model_name_list:\n",
    "    # Extract model name after the '/' character\n",
    "    model_short_name = model.split('/')[-1]\n",
    "    # Create nested dictionary for each prompt template with API configuration\n",
    "    experiment_dict[model_short_name] = {\n",
    "        'long_fewshot_cot': long_fewshotcot_pt_2label,\n",
    "        'long_cot': long_cot_pt_2label,\n",
    "        'short_cot': short_cot_pt_2label,\n",
    "    }"
   ]
  },
  {
   "cell_type": "markdown",
   "metadata": {},
   "source": [
    "#### Define model and initiate llm agent"
   ]
  },
  {
   "cell_type": "code",
   "execution_count": 8,
   "metadata": {},
   "outputs": [],
   "source": [
    "from llm_utils_claude import ClaudeAgent\n",
    "\n"
   ]
  },
  {
   "cell_type": "code",
   "execution_count": 41,
   "metadata": {},
   "outputs": [
    {
     "name": "stdout",
     "output_type": "stream",
     "text": [
      "Hello! How can I assist you today? Whether you have a question, need information, or just want to chat, I'm here to help. What's on your mind?\n"
     ]
    }
   ],
   "source": [
    "model_name = 'claude-3-7-sonnet-latest'\n",
    "agent = ClaudeAgent(model=model_name,temperature=0.0,max_tokens=4000,api_key=os.getenv(\"CLAUDE_API_KEY\"))\n",
    "agent.connection_test('hi')"
   ]
  },
  {
   "cell_type": "code",
   "execution_count": 42,
   "metadata": {},
   "outputs": [
    {
     "name": "stderr",
     "output_type": "stream",
     "text": [
      "100%|██████████| 108/108 [03:44<00:00,  2.08s/it]\n"
     ]
    },
    {
     "name": "stdout",
     "output_type": "stream",
     "text": [
      "\n",
      "Validation Results: claude-3-7-sonnet-latest ; long_fewshot_cot\n",
      "Total samples: 108\n",
      "Successfully processed: 108\n",
      "Validation Accuracy: 79.63%\n"
     ]
    },
    {
     "name": "stderr",
     "output_type": "stream",
     "text": [
      "100%|██████████| 108/108 [04:25<00:00,  2.46s/it]\n"
     ]
    },
    {
     "name": "stdout",
     "output_type": "stream",
     "text": [
      "\n",
      "Validation Results: claude-3-7-sonnet-latest ; long_cot\n",
      "Total samples: 108\n",
      "Successfully processed: 108\n",
      "Validation Accuracy: 78.70%\n"
     ]
    },
    {
     "name": "stderr",
     "output_type": "stream",
     "text": [
      "100%|██████████| 108/108 [03:05<00:00,  1.71s/it]"
     ]
    },
    {
     "name": "stdout",
     "output_type": "stream",
     "text": [
      "\n",
      "Validation Results: claude-3-7-sonnet-latest ; short_cot\n",
      "Total samples: 108\n",
      "Successfully processed: 108\n",
      "Validation Accuracy: 74.07%\n"
     ]
    },
    {
     "name": "stderr",
     "output_type": "stream",
     "text": [
      "\n"
     ]
    }
   ],
   "source": [
    "# Get predictions for validation and test sets\n",
    "experiment = experiment_dict[model_name]\n",
    "for promt_type in experiment.keys():\n",
    "    val_results = get_climate_classifications(agent, test_data, experiment[promt_type])\n",
    "    val_results.to_csv(os.path.join( data_folder,'training_eval_results','{}_{}_val_results_v2.csv'.format(model_name,promt_type)))\n",
    "\n",
    "    print(\"\\nValidation Results: {} ; {}\".format(model_name,promt_type))\n",
    "    print(f\"Total samples: {len(val_results)}\")\n",
    "    print(f\"Successfully processed: {len(val_results[val_results.predicted_label.notna()])}\")\n",
    "    val_accuracy = (val_results['true_label'] == val_results['predicted_label']).mean()\n",
    "    print(f\"Validation Accuracy: {val_accuracy:.2%}\")\n"
   ]
  },
  {
   "cell_type": "markdown",
   "metadata": {},
   "source": [
    "#### Try run with asyc clent"
   ]
  },
  {
   "cell_type": "code",
   "execution_count": 11,
   "metadata": {},
   "outputs": [
    {
     "name": "stdout",
     "output_type": "stream",
     "text": [
      "ChatCompletionMessage(content='Hi there! How can I help you today?\\n', refusal=None, role='assistant', audio=None, function_call=None, tool_calls=None)\n"
     ]
    }
   ],
   "source": [
    "from openai import OpenAI\n",
    "\n",
    "client = OpenAI(\n",
    "    api_key=os.getenv(\"GEMINI_API_KEY\"),\n",
    "    base_url=\"https://generativelanguage.googleapis.com/v1beta/openai/\"\n",
    ")\n",
    "\n",
    "response = client.chat.completions.create(\n",
    "    model=\"gemini-2.0-flash\",\n",
    "    n=1,\n",
    "    messages=[\n",
    "        {\"role\": \"system\", \"content\": \"You are a helpful assistant.\"},\n",
    "        {\n",
    "            \"role\": \"user\",\n",
    "            \"content\": \"hi\"\n",
    "        }\n",
    "    ]\n",
    ")\n",
    "\n",
    "print(response.choices[0].message)"
   ]
  },
  {
   "cell_type": "code",
   "execution_count": null,
   "metadata": {},
   "outputs": [],
   "source": []
  }
 ],
 "metadata": {
  "kernelspec": {
   "display_name": "llm",
   "language": "python",
   "name": "python3"
  },
  "language_info": {
   "codemirror_mode": {
    "name": "ipython",
    "version": 3
   },
   "file_extension": ".py",
   "mimetype": "text/x-python",
   "name": "python",
   "nbconvert_exporter": "python",
   "pygments_lexer": "ipython3",
   "version": "3.11.11"
  }
 },
 "nbformat": 4,
 "nbformat_minor": 2
}
